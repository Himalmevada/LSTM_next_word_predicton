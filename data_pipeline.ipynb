{
 "cells": [
  {
   "cell_type": "code",
   "execution_count": 1,
   "id": "693f568a-f42e-4b36-bd30-4e4b4c83e61c",
   "metadata": {},
   "outputs": [],
   "source": [
    "faqs = \"\"\"About the Program\n",
    "What is the course fee for  Data Science Mentorship Program (DSMP 2023)\n",
    "The course follows a monthly subscription model where you have to make monthly payments of Rs 799/month.\n",
    "What is the total duration of the course?\n",
    "The total duration of the course is 7 months. So the total course fee becomes 799*7 = Rs 5600(approx.)\n",
    "What is the syllabus of the mentorship program?\n",
    "We will be covering the following modules:\n",
    "Python Fundamentals\n",
    "Python libraries for Data Science\n",
    "Data Analysis\n",
    "SQL for Data Science\n",
    "Maths for Machine Learning\n",
    "ML Algorithms\n",
    "Practical ML\n",
    "MLOPs\n",
    "Case studies\n",
    "You can check the detailed syllabus here - https://learnwith.campusx.in/courses/CampusX-Data-Science-Mentorship-Program-637339afe4b0615a1bbed390\n",
    "Will Deep Learning and NLP be a part of this program?\n",
    "No, NLP and Deep Learning both are not a part of this program’s curriculum.\n",
    "What if I miss a live session? Will I get a recording of the session?\n",
    "Yes all our sessions are recorded, so even if you miss a session you can go back and watch the recording.\n",
    "Where can I find the class schedule?\n",
    "Checkout this google sheet to see month by month time table of the course - https://docs.google.com/spreadsheets/d/16OoTax_A6ORAeCg4emgexhqqPv3noQPYKU7RJ6ArOzk/edit?usp=sharing.\n",
    "What is the time duration of all the live sessions?\n",
    "Roughly, all the sessions last 2 hours.\n",
    "What is the language spoken by the instructor during the sessions?\n",
    "Hinglish\n",
    "How will I be informed about the upcoming class?\n",
    "You will get a mail from our side before every paid session once you become a paid user.\n",
    "Can I do this course if I am from a non-tech background?\n",
    "Yes, absolutely.\n",
    "I am late, can I join the program in the middle?\n",
    "Absolutely, you can join the program anytime.\n",
    "If I join/pay in the middle, will I be able to see all the past lectures?\n",
    "Yes, once you make the payment you will be able to see all the past content in your dashboard.\n",
    "Where do I have to submit the task?\n",
    "You don’t have to submit the task. We will provide you with the solutions, you have to self evaluate the task yourself.\n",
    "Will we do case studies in the program?\n",
    "Yes.\n",
    "Where can we contact you?\n",
    "You can mail us at nitish.campusx@gmail.com\n",
    "Payment/Registration related questions\n",
    "Where do we have to make our payments? Your YouTube channel or website?\n",
    "You have to make all your monthly payments on our website. Here is the link for our website - https://learnwith.campusx.in/\n",
    "Can we pay the entire amount of Rs 5600 all at once?\n",
    "Unfortunately no, the program follows a monthly subscription model.\n",
    "What is the validity of monthly subscription? Suppose if I pay on 15th Jan, then do I have to pay again on 1st Feb or 15th Feb\n",
    "15th Feb. The validity period is 30 days from the day you make the payment. So essentially you can join anytime you don’t have to wait for a month to end.\n",
    "What if I don’t like the course after making the payment. What is the refund policy?\n",
    "You get a 7 days refund period from the day you have made the payment.\n",
    "I am living outside India and I am not able to make the payment on the website, what should I do?\n",
    "You have to contact us by sending a mail at nitish.campusx@gmail.com\n",
    "Post registration queries\n",
    "Till when can I view the paid videos on the website?\n",
    "This one is tricky, so read carefully. You can watch the videos till your subscription is valid. Suppose you have purchased subscription on 21st Jan, you will be able to watch all the past paid sessions in the period of 21st Jan to 20th Feb. But after 21st Feb you will have to purchase the subscription again.\n",
    "But once the course is over and you have paid us Rs 5600(or 7 installments of Rs 799) you will be able to watch the paid sessions till Aug 2024.\n",
    "Why lifetime validity is not provided?\n",
    "Because of the low course fee.\n",
    "Where can I reach out in case of a doubt after the session?\n",
    "You will have to fill a google form provided in your dashboard and our team will contact you for a 1 on 1 doubt clearance session\n",
    "If I join the program late, can I still ask past week doubts?\n",
    "Yes, just select past week doubt in the doubt clearance google form.\n",
    "I am living outside India and I am not able to make the payment on the website, what should I do?\n",
    "You have to contact us by sending a mail at nitish.campusx@gmai.com\n",
    "Certificate and Placement Assistance related queries\n",
    "What is the criteria to get the certificate?\n",
    "There are 2 criterias:\n",
    "You have to pay the entire fee of Rs 5600\n",
    "You have to attempt all the course assessments.\n",
    "I am joining late. How can I pay payment of the earlier months?\n",
    "You will get a link to pay fee of earlier months in your dashboard once you pay for the current month.\n",
    "I have read that Placement assistance is a part of this program. What comes under Placement assistance?\n",
    "This is to clarify that Placement assistance does not mean Placement guarantee. So we dont guarantee you any jobs or for that matter even interview calls. So if you are planning to join this course just for placements, I am afraid you will be disappointed. Here is what comes under placement assistance\n",
    "Portfolio Building sessions\n",
    "Soft skill sessions\n",
    "Sessions with industry mentors\n",
    "Discussion on Job hunting strategies\n",
    "\"\"\""
   ]
  },
  {
   "cell_type": "code",
   "execution_count": 2,
   "id": "f638b63e-3699-4070-b844-b0871800c632",
   "metadata": {},
   "outputs": [
    {
     "name": "stderr",
     "output_type": "stream",
     "text": [
      "2025-01-19 23:22:31.332467: I tensorflow/core/util/port.cc:153] oneDNN custom operations are on. You may see slightly different numerical results due to floating-point round-off errors from different computation orders. To turn them off, set the environment variable `TF_ENABLE_ONEDNN_OPTS=0`.\n",
      "2025-01-19 23:22:31.340704: E external/local_xla/xla/stream_executor/cuda/cuda_fft.cc:477] Unable to register cuFFT factory: Attempting to register factory for plugin cuFFT when one has already been registered\n",
      "WARNING: All log messages before absl::InitializeLog() is called are written to STDERR\n",
      "E0000 00:00:1737309151.350194  284903 cuda_dnn.cc:8310] Unable to register cuDNN factory: Attempting to register factory for plugin cuDNN when one has already been registered\n",
      "E0000 00:00:1737309151.353164  284903 cuda_blas.cc:1418] Unable to register cuBLAS factory: Attempting to register factory for plugin cuBLAS when one has already been registered\n",
      "2025-01-19 23:22:31.363345: I tensorflow/core/platform/cpu_feature_guard.cc:210] This TensorFlow binary is optimized to use available CPU instructions in performance-critical operations.\n",
      "To enable the following instructions: AVX2 AVX_VNNI FMA, in other operations, rebuild TensorFlow with the appropriate compiler flags.\n"
     ]
    }
   ],
   "source": [
    "import numpy as np\n",
    "import pandas as pd\n",
    "import tensorflow as tf\n",
    "from tensorflow.keras.preprocessing.text import Tokenizer"
   ]
  },
  {
   "cell_type": "code",
   "execution_count": 3,
   "id": "e1bb134a-5fb9-4109-bbe4-8f31b9b273c3",
   "metadata": {},
   "outputs": [],
   "source": [
    "tokenizer = Tokenizer()"
   ]
  },
  {
   "cell_type": "code",
   "execution_count": 4,
   "id": "9e70799e-cadf-4bfe-96e6-5563de2f892a",
   "metadata": {},
   "outputs": [],
   "source": [
    "tokenizer.fit_on_texts([faqs])"
   ]
  },
  {
   "cell_type": "code",
   "execution_count": 5,
   "id": "49306ee5-26b2-4f30-bc87-437d30c281b6",
   "metadata": {},
   "outputs": [
    {
     "data": {
      "text/plain": [
       "{'the': 1,\n",
       " 'you': 2,\n",
       " 'i': 3,\n",
       " 'to': 4,\n",
       " 'a': 5,\n",
       " 'of': 6,\n",
       " 'is': 7,\n",
       " 'have': 8,\n",
       " 'will': 9,\n",
       " 'can': 10,\n",
       " 'what': 11,\n",
       " 'course': 12,\n",
       " 'program': 13,\n",
       " 'in': 14,\n",
       " 'for': 15,\n",
       " 'all': 16,\n",
       " 'sessions': 17,\n",
       " 'on': 18,\n",
       " 'be': 19,\n",
       " 'and': 20,\n",
       " 'this': 21,\n",
       " 'if': 22,\n",
       " 'am': 23,\n",
       " 'pay': 24,\n",
       " 'payment': 25,\n",
       " 'make': 26,\n",
       " 'we': 27,\n",
       " 'do': 28,\n",
       " 'subscription': 29,\n",
       " 'where': 30,\n",
       " 'rs': 31,\n",
       " 'so': 32,\n",
       " 'campusx': 33,\n",
       " 'session': 34,\n",
       " 'our': 35,\n",
       " 'paid': 36,\n",
       " 'join': 37,\n",
       " 'able': 38,\n",
       " 'your': 39,\n",
       " 'website': 40,\n",
       " 'placement': 41,\n",
       " 'fee': 42,\n",
       " 'data': 43,\n",
       " 'monthly': 44,\n",
       " 'month': 45,\n",
       " 'not': 46,\n",
       " 'get': 47,\n",
       " 'yes': 48,\n",
       " 'once': 49,\n",
       " 'past': 50,\n",
       " 'feb': 51,\n",
       " 'assistance': 52,\n",
       " 'science': 53,\n",
       " '7': 54,\n",
       " '5600': 55,\n",
       " 'are': 56,\n",
       " 'watch': 57,\n",
       " 'google': 58,\n",
       " 'by': 59,\n",
       " 'com': 60,\n",
       " 'mail': 61,\n",
       " 'from': 62,\n",
       " 'contact': 63,\n",
       " 'us': 64,\n",
       " 'at': 65,\n",
       " 'or': 66,\n",
       " 'doubt': 67,\n",
       " 'mentorship': 68,\n",
       " 'payments': 69,\n",
       " '799': 70,\n",
       " 'total': 71,\n",
       " 'duration': 72,\n",
       " 'months': 73,\n",
       " 'learning': 74,\n",
       " 'case': 75,\n",
       " 'here': 76,\n",
       " 'https': 77,\n",
       " 'part': 78,\n",
       " 'see': 79,\n",
       " 'late': 80,\n",
       " 'dashboard': 81,\n",
       " 'task': 82,\n",
       " 'don’t': 83,\n",
       " 'nitish': 84,\n",
       " 'validity': 85,\n",
       " '15th': 86,\n",
       " 'jan': 87,\n",
       " 'period': 88,\n",
       " 'after': 89,\n",
       " 'till': 90,\n",
       " '21st': 91,\n",
       " 'that': 92,\n",
       " 'about': 93,\n",
       " 'follows': 94,\n",
       " 'model': 95,\n",
       " 'syllabus': 96,\n",
       " 'python': 97,\n",
       " 'ml': 98,\n",
       " 'studies': 99,\n",
       " 'learnwith': 100,\n",
       " 'deep': 101,\n",
       " 'nlp': 102,\n",
       " 'no': 103,\n",
       " 'miss': 104,\n",
       " 'live': 105,\n",
       " 'recording': 106,\n",
       " 'even': 107,\n",
       " 'class': 108,\n",
       " 'time': 109,\n",
       " '2': 110,\n",
       " 'how': 111,\n",
       " 'absolutely': 112,\n",
       " 'middle': 113,\n",
       " 'anytime': 114,\n",
       " 'submit': 115,\n",
       " 'with': 116,\n",
       " 'gmail': 117,\n",
       " 'registration': 118,\n",
       " 'related': 119,\n",
       " 'link': 120,\n",
       " 'entire': 121,\n",
       " 'suppose': 122,\n",
       " 'again': 123,\n",
       " 'days': 124,\n",
       " 'day': 125,\n",
       " 'refund': 126,\n",
       " 'living': 127,\n",
       " 'outside': 128,\n",
       " 'india': 129,\n",
       " 'should': 130,\n",
       " 'sending': 131,\n",
       " 'queries': 132,\n",
       " 'videos': 133,\n",
       " 'read': 134,\n",
       " 'but': 135,\n",
       " 'provided': 136,\n",
       " 'form': 137,\n",
       " '1': 138,\n",
       " 'clearance': 139,\n",
       " 'week': 140,\n",
       " 'just': 141,\n",
       " 'certificate': 142,\n",
       " 'earlier': 143,\n",
       " 'comes': 144,\n",
       " 'under': 145,\n",
       " 'guarantee': 146,\n",
       " 'dsmp': 147,\n",
       " '2023': 148,\n",
       " 'becomes': 149,\n",
       " 'approx': 150,\n",
       " 'covering': 151,\n",
       " 'following': 152,\n",
       " 'modules': 153,\n",
       " 'fundamentals': 154,\n",
       " 'libraries': 155,\n",
       " 'analysis': 156,\n",
       " 'sql': 157,\n",
       " 'maths': 158,\n",
       " 'machine': 159,\n",
       " 'algorithms': 160,\n",
       " 'practical': 161,\n",
       " 'mlops': 162,\n",
       " 'check': 163,\n",
       " 'detailed': 164,\n",
       " 'courses': 165,\n",
       " '637339afe4b0615a1bbed390': 166,\n",
       " 'both': 167,\n",
       " 'program’s': 168,\n",
       " 'curriculum': 169,\n",
       " 'recorded': 170,\n",
       " 'go': 171,\n",
       " 'back': 172,\n",
       " 'find': 173,\n",
       " 'schedule': 174,\n",
       " 'checkout': 175,\n",
       " 'sheet': 176,\n",
       " 'table': 177,\n",
       " 'docs': 178,\n",
       " 'spreadsheets': 179,\n",
       " 'd': 180,\n",
       " '16ootax': 181,\n",
       " 'a6oraecg4emgexhqqpv3noqpyku7rj6arozk': 182,\n",
       " 'edit': 183,\n",
       " 'usp': 184,\n",
       " 'sharing': 185,\n",
       " 'roughly': 186,\n",
       " 'last': 187,\n",
       " 'hours': 188,\n",
       " 'language': 189,\n",
       " 'spoken': 190,\n",
       " 'instructor': 191,\n",
       " 'during': 192,\n",
       " 'hinglish': 193,\n",
       " 'informed': 194,\n",
       " 'upcoming': 195,\n",
       " 'side': 196,\n",
       " 'before': 197,\n",
       " 'every': 198,\n",
       " 'become': 199,\n",
       " 'user': 200,\n",
       " 'non': 201,\n",
       " 'tech': 202,\n",
       " 'background': 203,\n",
       " 'lectures': 204,\n",
       " 'content': 205,\n",
       " 'provide': 206,\n",
       " 'solutions': 207,\n",
       " 'self': 208,\n",
       " 'evaluate': 209,\n",
       " 'yourself': 210,\n",
       " 'questions': 211,\n",
       " 'youtube': 212,\n",
       " 'channel': 213,\n",
       " 'amount': 214,\n",
       " 'unfortunately': 215,\n",
       " 'then': 216,\n",
       " '1st': 217,\n",
       " '30': 218,\n",
       " 'essentially': 219,\n",
       " 'wait': 220,\n",
       " 'end': 221,\n",
       " 'like': 222,\n",
       " 'making': 223,\n",
       " 'policy': 224,\n",
       " 'made': 225,\n",
       " 'post': 226,\n",
       " 'when': 227,\n",
       " 'view': 228,\n",
       " 'one': 229,\n",
       " 'tricky': 230,\n",
       " 'carefully': 231,\n",
       " 'valid': 232,\n",
       " 'purchased': 233,\n",
       " '20th': 234,\n",
       " 'purchase': 235,\n",
       " 'over': 236,\n",
       " 'installments': 237,\n",
       " 'aug': 238,\n",
       " '2024': 239,\n",
       " 'why': 240,\n",
       " 'lifetime': 241,\n",
       " 'because': 242,\n",
       " 'low': 243,\n",
       " 'reach': 244,\n",
       " 'out': 245,\n",
       " 'fill': 246,\n",
       " 'team': 247,\n",
       " 'still': 248,\n",
       " 'ask': 249,\n",
       " 'doubts': 250,\n",
       " 'select': 251,\n",
       " 'gmai': 252,\n",
       " 'criteria': 253,\n",
       " 'there': 254,\n",
       " 'criterias': 255,\n",
       " 'attempt': 256,\n",
       " 'assessments': 257,\n",
       " 'joining': 258,\n",
       " 'current': 259,\n",
       " 'clarify': 260,\n",
       " 'does': 261,\n",
       " 'mean': 262,\n",
       " 'dont': 263,\n",
       " 'any': 264,\n",
       " 'jobs': 265,\n",
       " 'matter': 266,\n",
       " 'interview': 267,\n",
       " 'calls': 268,\n",
       " 'planning': 269,\n",
       " 'placements': 270,\n",
       " 'afraid': 271,\n",
       " 'disappointed': 272,\n",
       " 'portfolio': 273,\n",
       " 'building': 274,\n",
       " 'soft': 275,\n",
       " 'skill': 276,\n",
       " 'industry': 277,\n",
       " 'mentors': 278,\n",
       " 'discussion': 279,\n",
       " 'job': 280,\n",
       " 'hunting': 281,\n",
       " 'strategies': 282}"
      ]
     },
     "execution_count": 5,
     "metadata": {},
     "output_type": "execute_result"
    }
   ],
   "source": [
    "tokenizer.word_index"
   ]
  },
  {
   "cell_type": "code",
   "execution_count": 6,
   "id": "63659ddc-b31f-4b26-9a17-2a6f35920077",
   "metadata": {},
   "outputs": [],
   "source": [
    "input_sequences= []\n",
    "for sentence in faqs.split(\"\\n\"):\n",
    "    tokenized_sentence = tokenizer.texts_to_sequences([sentence])[0]\n",
    "    for index in range(1,len(tokenized_sentence)):\n",
    "        input_sequences.append(tokenized_sentence[:index+1])"
   ]
  },
  {
   "cell_type": "code",
   "execution_count": 7,
   "id": "6357b1bb-c679-4219-b4f3-c44bc7ed5b7d",
   "metadata": {},
   "outputs": [
    {
     "data": {
      "text/plain": [
       "[93, 1, 13]"
      ]
     },
     "execution_count": 7,
     "metadata": {},
     "output_type": "execute_result"
    }
   ],
   "source": [
    "input_sequences[1]"
   ]
  },
  {
   "cell_type": "code",
   "execution_count": 8,
   "id": "9096ffec-bf52-4eba-b058-d296295a5ce3",
   "metadata": {},
   "outputs": [],
   "source": [
    "max_len = max([len(x) for x in input_sequences])"
   ]
  },
  {
   "cell_type": "code",
   "execution_count": 9,
   "id": "e3271d9d-5ef3-4d7a-973b-0494bdbbebf3",
   "metadata": {},
   "outputs": [
    {
     "data": {
      "text/plain": [
       "57"
      ]
     },
     "execution_count": 9,
     "metadata": {},
     "output_type": "execute_result"
    }
   ],
   "source": [
    "max_len"
   ]
  },
  {
   "cell_type": "code",
   "execution_count": 10,
   "id": "9ea3ca41-6be4-439c-830e-d95587e69392",
   "metadata": {},
   "outputs": [],
   "source": [
    "from tensorflow.keras.preprocessing.sequence import pad_sequences"
   ]
  },
  {
   "cell_type": "code",
   "execution_count": 11,
   "id": "dbda8f48-63b0-4ef7-bd1e-2e5f6c489d7d",
   "metadata": {},
   "outputs": [],
   "source": [
    "padded_input_sequences = pad_sequences(input_sequences, maxlen=max_len, padding=\"pre\")"
   ]
  },
  {
   "cell_type": "code",
   "execution_count": 12,
   "id": "465bf9fb-bc6b-4666-851d-0da153fe3abb",
   "metadata": {},
   "outputs": [
    {
     "data": {
      "text/plain": [
       "array([[  0,   0,   0, ...,   0,  93,   1],\n",
       "       [  0,   0,   0, ...,  93,   1,  13],\n",
       "       [  0,   0,   0, ...,   0,  11,   7],\n",
       "       ...,\n",
       "       [  0,   0,   0, ..., 279,  18, 280],\n",
       "       [  0,   0,   0, ...,  18, 280, 281],\n",
       "       [  0,   0,   0, ..., 280, 281, 282]], dtype=int32)"
      ]
     },
     "execution_count": 12,
     "metadata": {},
     "output_type": "execute_result"
    }
   ],
   "source": [
    "padded_input_sequences"
   ]
  },
  {
   "cell_type": "code",
   "execution_count": 13,
   "id": "507b3e11-7f04-433f-988a-2ab5d9a87024",
   "metadata": {},
   "outputs": [],
   "source": [
    "X = padded_input_sequences[:, :-1]"
   ]
  },
  {
   "cell_type": "code",
   "execution_count": 14,
   "id": "ccd74edc-8d4c-4a69-8dd6-992799b9f01e",
   "metadata": {},
   "outputs": [],
   "source": [
    "y = padded_input_sequences[:, -1]"
   ]
  },
  {
   "cell_type": "code",
   "execution_count": 15,
   "id": "8fb622fb-0fb3-47aa-9fad-c6cc7a8d5b77",
   "metadata": {},
   "outputs": [
    {
     "data": {
      "text/plain": [
       "array([  1,  13,   7,   1,  12,  42,  15,  43,  53,  68,  13, 147, 148,\n",
       "        12,  94,   5,  44,  29,  95,  30,   2,   8,   4,  26,  44,  69,\n",
       "         6,  31,  70,  45,   7,   1,  71,  72,   6,   1,  12,  71,  72,\n",
       "         6,   1,  12,   7,  54,  73,  32,   1,  71,  12,  42, 149,  70,\n",
       "        54,  31,  55, 150,   7,   1,  96,   6,   1,  68,  13,   9,  19,\n",
       "       151,   1, 152, 153, 154, 155,  15,  43,  53, 156,  15,  43,  53,\n",
       "        15, 159,  74, 160,  98,  99,  10, 163,   1, 164,  96,  76,  77,\n",
       "       100,  33,  14, 165,  33,  43,  53,  68,  13, 166, 101,  74,  20,\n",
       "       102,  19,   5,  78,   6,  21,  13, 102,  20, 101,  74, 167,  56,\n",
       "        46,   5,  78,   6,  21, 168, 169,  22,   3, 104,   5, 105,  34,\n",
       "         9,   3,  47,   5, 106,   6,   1,  34,  16,  35,  17,  56, 170,\n",
       "        32, 107,  22,   2, 104,   5,  34,   2,  10, 171, 172,  20,  57,\n",
       "         1, 106,  10,   3, 173,   1, 108, 174,  21,  58, 176,   4,  79,\n",
       "        45,  59,  45, 109, 177,   6,   1,  12,  77, 178,  58,  60, 179,\n",
       "       180, 181, 182, 183, 184, 185,   7,   1, 109,  72,   6,  16,   1,\n",
       "       105,  17,  16,   1,  17, 187, 110, 188,   7,   1, 189, 190,  59,\n",
       "         1, 191, 192,   1,  17,   9,   3,  19, 194,  93,   1, 195, 108,\n",
       "         9,  47,   5,  61,  62,  35, 196, 197, 198,  36,  34,  49,   2,\n",
       "       199,   5,  36, 200,   3,  28,  21,  12,  22,   3,  23,  62,   5,\n",
       "       201, 202, 203, 112,  23,  80,  10,   3,  37,   1,  13,  14,   1,\n",
       "       113,   2,  10,  37,   1,  13, 114,   3,  37,  24,  14,   1, 113,\n",
       "         9,   3,  19,  38,   4,  79,  16,   1,  50, 204,  49,   2,  26,\n",
       "         1,  25,   2,   9,  19,  38,   4,  79,  16,   1,  50, 205,  14,\n",
       "        39,  81,  28,   3,   8,   4, 115,   1,  82,  83,   8,   4, 115,\n",
       "         1,  82,  27,   9, 206,   2, 116,   1, 207,   2,   8,   4, 208,\n",
       "       209,   1,  82, 210,  27,  28,  75,  99,  14,   1,  13,  10,  27,\n",
       "        63,   2,  10,  61,  64,  65,  84,  33, 117,  60, 118, 119, 211,\n",
       "        28,  27,   8,   4,  26,  35,  69,  39, 212, 213,  66,  40,   8,\n",
       "         4,  26,  16,  39,  44,  69,  18,  35,  40,  76,   7,   1, 120,\n",
       "        15,  35,  40,  77, 100,  33,  14,  27,  24,   1, 121, 214,   6,\n",
       "        31,  55,  16,  65,  49, 103,   1,  13,  94,   5,  44,  29,  95,\n",
       "         7,   1,  85,   6,  44,  29, 122,  22,   3,  24,  18,  86,  87,\n",
       "       216,  28,   3,   8,   4,  24, 123,  18, 217,  51,  66,  86,  51,\n",
       "        51,   1,  85,  88,   7, 218, 124,  62,   1, 125,   2,  26,   1,\n",
       "        25,  32, 219,   2,  10,  37, 114,   2,  83,   8,   4, 220,  15,\n",
       "         5,  45,   4, 221,  22,   3,  83, 222,   1,  12,  89, 223,   1,\n",
       "        25,  11,   7,   1, 126, 224,  47,   5,  54, 124, 126,  88,  62,\n",
       "         1, 125,   2,   8, 225,   1,  25,  23, 127, 128, 129,  20,   3,\n",
       "        23,  46,  38,   4,  26,   1,  25,  18,   1,  40,  11, 130,   3,\n",
       "        28,   8,   4,  63,  64,  59, 131,   5,  61,  65,  84,  33, 117,\n",
       "        60, 118, 132, 227,  10,   3, 228,   1,  36, 133,  18,   1,  40,\n",
       "       229,   7, 230,  32, 134, 231,   2,  10,  57,   1, 133,  90,  39,\n",
       "        29,   7, 232, 122,   2,   8, 233,  29,  18,  91,  87,   2,   9,\n",
       "        19,  38,   4,  57,  16,   1,  50,  36,  17,  14,   1,  88,   6,\n",
       "        91,  87,   4, 234,  51, 135,  89,  91,  51,   2,   9,   8,   4,\n",
       "       235,   1,  29, 123,  49,   1,  12,   7, 236,  20,   2,   8,  36,\n",
       "        64,  31,  55,  66,  54, 237,   6,  31,  70,   2,   9,  19,  38,\n",
       "         4,  57,   1,  36,  17,  90, 238, 239, 241,  85,   7,  46, 136,\n",
       "         6,   1, 243,  12,  42,  10,   3, 244, 245,  14,  75,   6,   5,\n",
       "        67,  89,   1,  34,   9,   8,   4, 246,   5,  58, 137, 136,  14,\n",
       "        39,  81,  20,  35, 247,   9,  63,   2,  15,   5, 138,  18, 138,\n",
       "        67, 139,  34,   3,  37,   1,  13,  80,  10,   3, 248, 249,  50,\n",
       "       140, 250, 141, 251,  50, 140,  67,  14,   1,  67, 139,  58, 137,\n",
       "        23, 127, 128, 129,  20,   3,  23,  46,  38,   4,  26,   1,  25,\n",
       "        18,   1,  40,  11, 130,   3,  28,   8,   4,  63,  64,  59, 131,\n",
       "         5,  61,  65,  84,  33, 252,  60,  20,  41,  52, 119, 132,   7,\n",
       "         1, 253,   4,  47,   1, 142,  56, 110, 255,   8,   4,  24,   1,\n",
       "       121,  42,   6,  31,  55,   8,   4, 256,  16,   1,  12, 257,  23,\n",
       "       258,  80, 111,  10,   3,  24,  25,   6,   1, 143,  73,   9,  47,\n",
       "         5, 120,   4,  24,  42,   6, 143,  73,  14,  39,  81,  49,   2,\n",
       "        24,  15,   1, 259,  45,   8, 134,  92,  41,  52,   7,   5,  78,\n",
       "         6,  21,  13,  11, 144, 145,  41,  52,   7,   4, 260,  92,  41,\n",
       "        52, 261,  46, 262,  41, 146,  32,  27, 263, 146,   2, 264, 265,\n",
       "        66,  15,  92, 266, 107, 267, 268,  32,  22,   2,  56, 269,   4,\n",
       "        37,  21,  12, 141,  15, 270,   3,  23, 271,   2,   9,  19, 272,\n",
       "        76,   7,  11, 144, 145,  41,  52, 274,  17, 276,  17, 116, 277,\n",
       "       278,  18, 280, 281, 282], dtype=int32)"
      ]
     },
     "execution_count": 15,
     "metadata": {},
     "output_type": "execute_result"
    }
   ],
   "source": [
    "y"
   ]
  },
  {
   "cell_type": "code",
   "execution_count": 16,
   "id": "ee0cb0c7-92b9-4c5f-bd4c-b0e274d82a1c",
   "metadata": {},
   "outputs": [],
   "source": [
    "# Multiclass Classification"
   ]
  },
  {
   "cell_type": "code",
   "execution_count": 17,
   "id": "c1c02721-cc5a-4b2d-bd0a-7d1e36f2cf10",
   "metadata": {},
   "outputs": [
    {
     "data": {
      "text/plain": [
       "(863, 56)"
      ]
     },
     "execution_count": 17,
     "metadata": {},
     "output_type": "execute_result"
    }
   ],
   "source": [
    "X.shape"
   ]
  },
  {
   "cell_type": "code",
   "execution_count": 18,
   "id": "786e5330-c354-4905-b90b-0a74c084f57a",
   "metadata": {},
   "outputs": [
    {
     "data": {
      "text/plain": [
       "(863,)"
      ]
     },
     "execution_count": 18,
     "metadata": {},
     "output_type": "execute_result"
    }
   ],
   "source": [
    "y.shape"
   ]
  },
  {
   "cell_type": "code",
   "execution_count": 19,
   "id": "b34f66da-6601-4c6d-8bbd-accf482a1975",
   "metadata": {},
   "outputs": [],
   "source": [
    "from tensorflow.keras.utils import to_categorical"
   ]
  },
  {
   "cell_type": "code",
   "execution_count": 20,
   "id": "3a8fe52c-61ae-46dd-97ec-ad6e4c355538",
   "metadata": {},
   "outputs": [],
   "source": [
    "y = to_categorical(y, num_classes=len(tokenizer.word_index)+1)"
   ]
  },
  {
   "cell_type": "code",
   "execution_count": 21,
   "id": "78c96746-e932-467d-972d-1ed7b1628f77",
   "metadata": {},
   "outputs": [
    {
     "data": {
      "text/plain": [
       "(863, 283)"
      ]
     },
     "execution_count": 21,
     "metadata": {},
     "output_type": "execute_result"
    }
   ],
   "source": [
    "y.shape"
   ]
  },
  {
   "cell_type": "code",
   "execution_count": 22,
   "id": "ef302007-affe-4915-88fa-5ea5e22cb651",
   "metadata": {},
   "outputs": [
    {
     "data": {
      "text/plain": [
       "array([[0., 1., 0., ..., 0., 0., 0.],\n",
       "       [0., 0., 0., ..., 0., 0., 0.],\n",
       "       [0., 0., 0., ..., 0., 0., 0.],\n",
       "       ...,\n",
       "       [0., 0., 0., ..., 1., 0., 0.],\n",
       "       [0., 0., 0., ..., 0., 1., 0.],\n",
       "       [0., 0., 0., ..., 0., 0., 1.]])"
      ]
     },
     "execution_count": 22,
     "metadata": {},
     "output_type": "execute_result"
    }
   ],
   "source": [
    "y"
   ]
  },
  {
   "cell_type": "code",
   "execution_count": 23,
   "id": "6864c7f7-089f-4d81-aa4c-ce4c60dc8fca",
   "metadata": {},
   "outputs": [],
   "source": [
    "# Architecure of Model"
   ]
  },
  {
   "cell_type": "code",
   "execution_count": 24,
   "id": "fa2e612f-8515-4936-910b-6de1e0cab191",
   "metadata": {},
   "outputs": [],
   "source": [
    "from tensorflow.keras.models import Sequential\n",
    "from tensorflow.keras.layers import Embedding, LSTM, Dense\n",
    "import warnings\n",
    "warnings.filterwarnings(action=\"ignore\")"
   ]
  },
  {
   "cell_type": "code",
   "execution_count": 25,
   "id": "1718f6ae-190a-4eb4-8f2d-3b060f38dad5",
   "metadata": {
    "editable": true,
    "slideshow": {
     "slide_type": ""
    },
    "tags": []
   },
   "outputs": [
    {
     "name": "stderr",
     "output_type": "stream",
     "text": [
      "I0000 00:00:1737309152.299421  284903 gpu_device.cc:2022] Created device /job:localhost/replica:0/task:0/device:GPU:0 with 2273 MB memory:  -> device: 0, name: NVIDIA GeForce RTX 3050 Ti Laptop GPU, pci bus id: 0000:01:00.0, compute capability: 8.6\n"
     ]
    }
   ],
   "source": [
    "model = Sequential()\n",
    "model.add(Embedding(283, 100, input_length = 56))\n",
    "model.build((None, 56))\n",
    "model.add(LSTM(150, return_sequences=False))\n",
    "model.add(Dense(283, activation=\"softmax\"))"
   ]
  },
  {
   "cell_type": "code",
   "execution_count": 26,
   "id": "feda78cc-0ece-48f6-b1fc-07d6b2eeff06",
   "metadata": {},
   "outputs": [],
   "source": [
    "model.compile(loss=\"categorical_crossentropy\", optimizer=\"adam\",metrics=[\"accuracy\"])"
   ]
  },
  {
   "cell_type": "code",
   "execution_count": 27,
   "id": "a0e15acd-86e3-47c3-9d57-a23787cbf7de",
   "metadata": {},
   "outputs": [
    {
     "data": {
      "text/html": [
       "<pre style=\"white-space:pre;overflow-x:auto;line-height:normal;font-family:Menlo,'DejaVu Sans Mono',consolas,'Courier New',monospace\"><span style=\"font-weight: bold\">Model: \"sequential\"</span>\n",
       "</pre>\n"
      ],
      "text/plain": [
       "\u001b[1mModel: \"sequential\"\u001b[0m\n"
      ]
     },
     "metadata": {},
     "output_type": "display_data"
    },
    {
     "data": {
      "text/html": [
       "<pre style=\"white-space:pre;overflow-x:auto;line-height:normal;font-family:Menlo,'DejaVu Sans Mono',consolas,'Courier New',monospace\">┏━━━━━━━━━━━━━━━━━━━━━━━━━━━━━━━━━┳━━━━━━━━━━━━━━━━━━━━━━━━┳━━━━━━━━━━━━━━━┓\n",
       "┃<span style=\"font-weight: bold\"> Layer (type)                    </span>┃<span style=\"font-weight: bold\"> Output Shape           </span>┃<span style=\"font-weight: bold\">       Param # </span>┃\n",
       "┡━━━━━━━━━━━━━━━━━━━━━━━━━━━━━━━━━╇━━━━━━━━━━━━━━━━━━━━━━━━╇━━━━━━━━━━━━━━━┩\n",
       "│ embedding (<span style=\"color: #0087ff; text-decoration-color: #0087ff\">Embedding</span>)           │ (<span style=\"color: #00d7ff; text-decoration-color: #00d7ff\">None</span>, <span style=\"color: #00af00; text-decoration-color: #00af00\">56</span>, <span style=\"color: #00af00; text-decoration-color: #00af00\">100</span>)        │        <span style=\"color: #00af00; text-decoration-color: #00af00\">28,300</span> │\n",
       "├─────────────────────────────────┼────────────────────────┼───────────────┤\n",
       "│ lstm (<span style=\"color: #0087ff; text-decoration-color: #0087ff\">LSTM</span>)                     │ (<span style=\"color: #00d7ff; text-decoration-color: #00d7ff\">None</span>, <span style=\"color: #00af00; text-decoration-color: #00af00\">150</span>)            │       <span style=\"color: #00af00; text-decoration-color: #00af00\">150,600</span> │\n",
       "├─────────────────────────────────┼────────────────────────┼───────────────┤\n",
       "│ dense (<span style=\"color: #0087ff; text-decoration-color: #0087ff\">Dense</span>)                   │ (<span style=\"color: #00d7ff; text-decoration-color: #00d7ff\">None</span>, <span style=\"color: #00af00; text-decoration-color: #00af00\">283</span>)            │        <span style=\"color: #00af00; text-decoration-color: #00af00\">42,733</span> │\n",
       "└─────────────────────────────────┴────────────────────────┴───────────────┘\n",
       "</pre>\n"
      ],
      "text/plain": [
       "┏━━━━━━━━━━━━━━━━━━━━━━━━━━━━━━━━━┳━━━━━━━━━━━━━━━━━━━━━━━━┳━━━━━━━━━━━━━━━┓\n",
       "┃\u001b[1m \u001b[0m\u001b[1mLayer (type)                   \u001b[0m\u001b[1m \u001b[0m┃\u001b[1m \u001b[0m\u001b[1mOutput Shape          \u001b[0m\u001b[1m \u001b[0m┃\u001b[1m \u001b[0m\u001b[1m      Param #\u001b[0m\u001b[1m \u001b[0m┃\n",
       "┡━━━━━━━━━━━━━━━━━━━━━━━━━━━━━━━━━╇━━━━━━━━━━━━━━━━━━━━━━━━╇━━━━━━━━━━━━━━━┩\n",
       "│ embedding (\u001b[38;5;33mEmbedding\u001b[0m)           │ (\u001b[38;5;45mNone\u001b[0m, \u001b[38;5;34m56\u001b[0m, \u001b[38;5;34m100\u001b[0m)        │        \u001b[38;5;34m28,300\u001b[0m │\n",
       "├─────────────────────────────────┼────────────────────────┼───────────────┤\n",
       "│ lstm (\u001b[38;5;33mLSTM\u001b[0m)                     │ (\u001b[38;5;45mNone\u001b[0m, \u001b[38;5;34m150\u001b[0m)            │       \u001b[38;5;34m150,600\u001b[0m │\n",
       "├─────────────────────────────────┼────────────────────────┼───────────────┤\n",
       "│ dense (\u001b[38;5;33mDense\u001b[0m)                   │ (\u001b[38;5;45mNone\u001b[0m, \u001b[38;5;34m283\u001b[0m)            │        \u001b[38;5;34m42,733\u001b[0m │\n",
       "└─────────────────────────────────┴────────────────────────┴───────────────┘\n"
      ]
     },
     "metadata": {},
     "output_type": "display_data"
    },
    {
     "data": {
      "text/html": [
       "<pre style=\"white-space:pre;overflow-x:auto;line-height:normal;font-family:Menlo,'DejaVu Sans Mono',consolas,'Courier New',monospace\"><span style=\"font-weight: bold\"> Total params: </span><span style=\"color: #00af00; text-decoration-color: #00af00\">221,633</span> (865.75 KB)\n",
       "</pre>\n"
      ],
      "text/plain": [
       "\u001b[1m Total params: \u001b[0m\u001b[38;5;34m221,633\u001b[0m (865.75 KB)\n"
      ]
     },
     "metadata": {},
     "output_type": "display_data"
    },
    {
     "data": {
      "text/html": [
       "<pre style=\"white-space:pre;overflow-x:auto;line-height:normal;font-family:Menlo,'DejaVu Sans Mono',consolas,'Courier New',monospace\"><span style=\"font-weight: bold\"> Trainable params: </span><span style=\"color: #00af00; text-decoration-color: #00af00\">221,633</span> (865.75 KB)\n",
       "</pre>\n"
      ],
      "text/plain": [
       "\u001b[1m Trainable params: \u001b[0m\u001b[38;5;34m221,633\u001b[0m (865.75 KB)\n"
      ]
     },
     "metadata": {},
     "output_type": "display_data"
    },
    {
     "data": {
      "text/html": [
       "<pre style=\"white-space:pre;overflow-x:auto;line-height:normal;font-family:Menlo,'DejaVu Sans Mono',consolas,'Courier New',monospace\"><span style=\"font-weight: bold\"> Non-trainable params: </span><span style=\"color: #00af00; text-decoration-color: #00af00\">0</span> (0.00 B)\n",
       "</pre>\n"
      ],
      "text/plain": [
       "\u001b[1m Non-trainable params: \u001b[0m\u001b[38;5;34m0\u001b[0m (0.00 B)\n"
      ]
     },
     "metadata": {},
     "output_type": "display_data"
    }
   ],
   "source": [
    "model.summary()"
   ]
  },
  {
   "cell_type": "code",
   "execution_count": 28,
   "id": "20013fa2-4bab-4e9c-a769-668d45db163d",
   "metadata": {
    "editable": true,
    "slideshow": {
     "slide_type": ""
    },
    "tags": []
   },
   "outputs": [
    {
     "name": "stdout",
     "output_type": "stream",
     "text": [
      "Epoch 1/100\n",
      "\u001b[1m12/27\u001b[0m \u001b[32m━━━━━━━━\u001b[0m\u001b[37m━━━━━━━━━━━━\u001b[0m \u001b[1m0s\u001b[0m 5ms/step - accuracy: 0.0317 - loss: 5.6391    "
     ]
    },
    {
     "name": "stderr",
     "output_type": "stream",
     "text": [
      "I0000 00:00:1737309153.639688  284986 cuda_dnn.cc:529] Loaded cuDNN version 90300\n"
     ]
    },
    {
     "name": "stdout",
     "output_type": "stream",
     "text": [
      "\u001b[1m27/27\u001b[0m \u001b[32m━━━━━━━━━━━━━━━━━━━━\u001b[0m\u001b[37m\u001b[0m \u001b[1m1s\u001b[0m 7ms/step - accuracy: 0.0473 - loss: 5.5735\n",
      "Epoch 2/100\n",
      "\u001b[1m27/27\u001b[0m \u001b[32m━━━━━━━━━━━━━━━━━━━━\u001b[0m\u001b[37m\u001b[0m \u001b[1m0s\u001b[0m 5ms/step - accuracy: 0.0754 - loss: 5.0864\n",
      "Epoch 3/100\n",
      "\u001b[1m27/27\u001b[0m \u001b[32m━━━━━━━━━━━━━━━━━━━━\u001b[0m\u001b[37m\u001b[0m \u001b[1m0s\u001b[0m 5ms/step - accuracy: 0.0799 - loss: 4.9751\n",
      "Epoch 4/100\n",
      "\u001b[1m27/27\u001b[0m \u001b[32m━━━━━━━━━━━━━━━━━━━━\u001b[0m\u001b[37m\u001b[0m \u001b[1m0s\u001b[0m 5ms/step - accuracy: 0.0846 - loss: 4.9437\n",
      "Epoch 5/100\n",
      "\u001b[1m27/27\u001b[0m \u001b[32m━━━━━━━━━━━━━━━━━━━━\u001b[0m\u001b[37m\u001b[0m \u001b[1m0s\u001b[0m 5ms/step - accuracy: 0.0769 - loss: 4.9403\n",
      "Epoch 6/100\n",
      "\u001b[1m27/27\u001b[0m \u001b[32m━━━━━━━━━━━━━━━━━━━━\u001b[0m\u001b[37m\u001b[0m \u001b[1m0s\u001b[0m 4ms/step - accuracy: 0.0823 - loss: 4.8217\n",
      "Epoch 7/100\n",
      "\u001b[1m27/27\u001b[0m \u001b[32m━━━━━━━━━━━━━━━━━━━━\u001b[0m\u001b[37m\u001b[0m \u001b[1m0s\u001b[0m 4ms/step - accuracy: 0.0975 - loss: 4.6334\n",
      "Epoch 8/100\n",
      "\u001b[1m27/27\u001b[0m \u001b[32m━━━━━━━━━━━━━━━━━━━━\u001b[0m\u001b[37m\u001b[0m \u001b[1m0s\u001b[0m 5ms/step - accuracy: 0.1127 - loss: 4.5170\n",
      "Epoch 9/100\n",
      "\u001b[1m27/27\u001b[0m \u001b[32m━━━━━━━━━━━━━━━━━━━━\u001b[0m\u001b[37m\u001b[0m \u001b[1m0s\u001b[0m 4ms/step - accuracy: 0.1364 - loss: 4.3085\n",
      "Epoch 10/100\n",
      "\u001b[1m27/27\u001b[0m \u001b[32m━━━━━━━━━━━━━━━━━━━━\u001b[0m\u001b[37m\u001b[0m \u001b[1m0s\u001b[0m 4ms/step - accuracy: 0.1882 - loss: 4.0107\n",
      "Epoch 11/100\n",
      "\u001b[1m27/27\u001b[0m \u001b[32m━━━━━━━━━━━━━━━━━━━━\u001b[0m\u001b[37m\u001b[0m \u001b[1m0s\u001b[0m 4ms/step - accuracy: 0.1997 - loss: 3.9323\n",
      "Epoch 12/100\n",
      "\u001b[1m27/27\u001b[0m \u001b[32m━━━━━━━━━━━━━━━━━━━━\u001b[0m\u001b[37m\u001b[0m \u001b[1m0s\u001b[0m 4ms/step - accuracy: 0.2525 - loss: 3.5332\n",
      "Epoch 13/100\n",
      "\u001b[1m27/27\u001b[0m \u001b[32m━━━━━━━━━━━━━━━━━━━━\u001b[0m\u001b[37m\u001b[0m \u001b[1m0s\u001b[0m 5ms/step - accuracy: 0.2720 - loss: 3.3703\n",
      "Epoch 14/100\n",
      "\u001b[1m27/27\u001b[0m \u001b[32m━━━━━━━━━━━━━━━━━━━━\u001b[0m\u001b[37m\u001b[0m \u001b[1m0s\u001b[0m 6ms/step - accuracy: 0.3335 - loss: 3.2454\n",
      "Epoch 15/100\n",
      "\u001b[1m27/27\u001b[0m \u001b[32m━━━━━━━━━━━━━━━━━━━━\u001b[0m\u001b[37m\u001b[0m \u001b[1m0s\u001b[0m 4ms/step - accuracy: 0.3862 - loss: 2.9288\n",
      "Epoch 16/100\n",
      "\u001b[1m27/27\u001b[0m \u001b[32m━━━━━━━━━━━━━━━━━━━━\u001b[0m\u001b[37m\u001b[0m \u001b[1m0s\u001b[0m 5ms/step - accuracy: 0.4079 - loss: 2.7394\n",
      "Epoch 17/100\n",
      "\u001b[1m27/27\u001b[0m \u001b[32m━━━━━━━━━━━━━━━━━━━━\u001b[0m\u001b[37m\u001b[0m \u001b[1m0s\u001b[0m 4ms/step - accuracy: 0.4585 - loss: 2.5491\n",
      "Epoch 18/100\n",
      "\u001b[1m27/27\u001b[0m \u001b[32m━━━━━━━━━━━━━━━━━━━━\u001b[0m\u001b[37m\u001b[0m \u001b[1m0s\u001b[0m 4ms/step - accuracy: 0.4723 - loss: 2.4433\n",
      "Epoch 19/100\n",
      "\u001b[1m27/27\u001b[0m \u001b[32m━━━━━━━━━━━━━━━━━━━━\u001b[0m\u001b[37m\u001b[0m \u001b[1m0s\u001b[0m 5ms/step - accuracy: 0.5104 - loss: 2.2825\n",
      "Epoch 20/100\n",
      "\u001b[1m27/27\u001b[0m \u001b[32m━━━━━━━━━━━━━━━━━━━━\u001b[0m\u001b[37m\u001b[0m \u001b[1m0s\u001b[0m 4ms/step - accuracy: 0.5238 - loss: 2.1356\n",
      "Epoch 21/100\n",
      "\u001b[1m27/27\u001b[0m \u001b[32m━━━━━━━━━━━━━━━━━━━━\u001b[0m\u001b[37m\u001b[0m \u001b[1m0s\u001b[0m 4ms/step - accuracy: 0.5420 - loss: 2.0672\n",
      "Epoch 22/100\n",
      "\u001b[1m27/27\u001b[0m \u001b[32m━━━━━━━━━━━━━━━━━━━━\u001b[0m\u001b[37m\u001b[0m \u001b[1m0s\u001b[0m 5ms/step - accuracy: 0.5903 - loss: 1.9077\n",
      "Epoch 23/100\n",
      "\u001b[1m27/27\u001b[0m \u001b[32m━━━━━━━━━━━━━━━━━━━━\u001b[0m\u001b[37m\u001b[0m \u001b[1m0s\u001b[0m 5ms/step - accuracy: 0.6329 - loss: 1.7371\n",
      "Epoch 24/100\n",
      "\u001b[1m27/27\u001b[0m \u001b[32m━━━━━━━━━━━━━━━━━━━━\u001b[0m\u001b[37m\u001b[0m \u001b[1m0s\u001b[0m 4ms/step - accuracy: 0.6772 - loss: 1.6325\n",
      "Epoch 25/100\n",
      "\u001b[1m27/27\u001b[0m \u001b[32m━━━━━━━━━━━━━━━━━━━━\u001b[0m\u001b[37m\u001b[0m \u001b[1m0s\u001b[0m 4ms/step - accuracy: 0.6985 - loss: 1.4989\n",
      "Epoch 26/100\n",
      "\u001b[1m27/27\u001b[0m \u001b[32m━━━━━━━━━━━━━━━━━━━━\u001b[0m\u001b[37m\u001b[0m \u001b[1m0s\u001b[0m 4ms/step - accuracy: 0.7384 - loss: 1.4178\n",
      "Epoch 27/100\n",
      "\u001b[1m27/27\u001b[0m \u001b[32m━━━━━━━━━━━━━━━━━━━━\u001b[0m\u001b[37m\u001b[0m \u001b[1m0s\u001b[0m 4ms/step - accuracy: 0.7616 - loss: 1.3158\n",
      "Epoch 28/100\n",
      "\u001b[1m27/27\u001b[0m \u001b[32m━━━━━━━━━━━━━━━━━━━━\u001b[0m\u001b[37m\u001b[0m \u001b[1m0s\u001b[0m 5ms/step - accuracy: 0.7779 - loss: 1.2401\n",
      "Epoch 29/100\n",
      "\u001b[1m27/27\u001b[0m \u001b[32m━━━━━━━━━━━━━━━━━━━━\u001b[0m\u001b[37m\u001b[0m \u001b[1m0s\u001b[0m 5ms/step - accuracy: 0.7926 - loss: 1.1640\n",
      "Epoch 30/100\n",
      "\u001b[1m27/27\u001b[0m \u001b[32m━━━━━━━━━━━━━━━━━━━━\u001b[0m\u001b[37m\u001b[0m \u001b[1m0s\u001b[0m 4ms/step - accuracy: 0.8285 - loss: 1.0785\n",
      "Epoch 31/100\n",
      "\u001b[1m27/27\u001b[0m \u001b[32m━━━━━━━━━━━━━━━━━━━━\u001b[0m\u001b[37m\u001b[0m \u001b[1m0s\u001b[0m 5ms/step - accuracy: 0.8588 - loss: 1.0172\n",
      "Epoch 32/100\n",
      "\u001b[1m27/27\u001b[0m \u001b[32m━━━━━━━━━━━━━━━━━━━━\u001b[0m\u001b[37m\u001b[0m \u001b[1m0s\u001b[0m 4ms/step - accuracy: 0.8788 - loss: 0.9315\n",
      "Epoch 33/100\n",
      "\u001b[1m27/27\u001b[0m \u001b[32m━━━━━━━━━━━━━━━━━━━━\u001b[0m\u001b[37m\u001b[0m \u001b[1m0s\u001b[0m 4ms/step - accuracy: 0.8814 - loss: 0.8768\n",
      "Epoch 34/100\n",
      "\u001b[1m27/27\u001b[0m \u001b[32m━━━━━━━━━━━━━━━━━━━━\u001b[0m\u001b[37m\u001b[0m \u001b[1m0s\u001b[0m 4ms/step - accuracy: 0.8767 - loss: 0.8231\n",
      "Epoch 35/100\n",
      "\u001b[1m27/27\u001b[0m \u001b[32m━━━━━━━━━━━━━━━━━━━━\u001b[0m\u001b[37m\u001b[0m \u001b[1m0s\u001b[0m 4ms/step - accuracy: 0.8969 - loss: 0.7742\n",
      "Epoch 36/100\n",
      "\u001b[1m27/27\u001b[0m \u001b[32m━━━━━━━━━━━━━━━━━━━━\u001b[0m\u001b[37m\u001b[0m \u001b[1m0s\u001b[0m 4ms/step - accuracy: 0.9034 - loss: 0.7022\n",
      "Epoch 37/100\n",
      "\u001b[1m27/27\u001b[0m \u001b[32m━━━━━━━━━━━━━━━━━━━━\u001b[0m\u001b[37m\u001b[0m \u001b[1m0s\u001b[0m 5ms/step - accuracy: 0.8850 - loss: 0.7073\n",
      "Epoch 38/100\n",
      "\u001b[1m27/27\u001b[0m \u001b[32m━━━━━━━━━━━━━━━━━━━━\u001b[0m\u001b[37m\u001b[0m \u001b[1m0s\u001b[0m 4ms/step - accuracy: 0.9049 - loss: 0.6175\n",
      "Epoch 39/100\n",
      "\u001b[1m27/27\u001b[0m \u001b[32m━━━━━━━━━━━━━━━━━━━━\u001b[0m\u001b[37m\u001b[0m \u001b[1m0s\u001b[0m 4ms/step - accuracy: 0.9029 - loss: 0.6180\n",
      "Epoch 40/100\n",
      "\u001b[1m27/27\u001b[0m \u001b[32m━━━━━━━━━━━━━━━━━━━━\u001b[0m\u001b[37m\u001b[0m \u001b[1m0s\u001b[0m 4ms/step - accuracy: 0.9271 - loss: 0.5477\n",
      "Epoch 41/100\n",
      "\u001b[1m27/27\u001b[0m \u001b[32m━━━━━━━━━━━━━━━━━━━━\u001b[0m\u001b[37m\u001b[0m \u001b[1m0s\u001b[0m 5ms/step - accuracy: 0.9312 - loss: 0.5544\n",
      "Epoch 42/100\n",
      "\u001b[1m27/27\u001b[0m \u001b[32m━━━━━━━━━━━━━━━━━━━━\u001b[0m\u001b[37m\u001b[0m \u001b[1m0s\u001b[0m 5ms/step - accuracy: 0.9508 - loss: 0.4834\n",
      "Epoch 43/100\n",
      "\u001b[1m27/27\u001b[0m \u001b[32m━━━━━━━━━━━━━━━━━━━━\u001b[0m\u001b[37m\u001b[0m \u001b[1m0s\u001b[0m 5ms/step - accuracy: 0.9253 - loss: 0.4957\n",
      "Epoch 44/100\n",
      "\u001b[1m27/27\u001b[0m \u001b[32m━━━━━━━━━━━━━━━━━━━━\u001b[0m\u001b[37m\u001b[0m \u001b[1m0s\u001b[0m 4ms/step - accuracy: 0.9307 - loss: 0.4444\n",
      "Epoch 45/100\n",
      "\u001b[1m27/27\u001b[0m \u001b[32m━━━━━━━━━━━━━━━━━━━━\u001b[0m\u001b[37m\u001b[0m \u001b[1m0s\u001b[0m 4ms/step - accuracy: 0.9413 - loss: 0.4405\n",
      "Epoch 46/100\n",
      "\u001b[1m27/27\u001b[0m \u001b[32m━━━━━━━━━━━━━━━━━━━━\u001b[0m\u001b[37m\u001b[0m \u001b[1m0s\u001b[0m 4ms/step - accuracy: 0.9435 - loss: 0.4098\n",
      "Epoch 47/100\n",
      "\u001b[1m27/27\u001b[0m \u001b[32m━━━━━━━━━━━━━━━━━━━━\u001b[0m\u001b[37m\u001b[0m \u001b[1m0s\u001b[0m 5ms/step - accuracy: 0.9393 - loss: 0.3956\n",
      "Epoch 48/100\n",
      "\u001b[1m27/27\u001b[0m \u001b[32m━━━━━━━━━━━━━━━━━━━━\u001b[0m\u001b[37m\u001b[0m \u001b[1m0s\u001b[0m 4ms/step - accuracy: 0.9408 - loss: 0.3773\n",
      "Epoch 49/100\n",
      "\u001b[1m27/27\u001b[0m \u001b[32m━━━━━━━━━━━━━━━━━━━━\u001b[0m\u001b[37m\u001b[0m \u001b[1m0s\u001b[0m 4ms/step - accuracy: 0.9436 - loss: 0.3640\n",
      "Epoch 50/100\n",
      "\u001b[1m27/27\u001b[0m \u001b[32m━━━━━━━━━━━━━━━━━━━━\u001b[0m\u001b[37m\u001b[0m \u001b[1m0s\u001b[0m 5ms/step - accuracy: 0.9398 - loss: 0.3479\n",
      "Epoch 51/100\n",
      "\u001b[1m27/27\u001b[0m \u001b[32m━━━━━━━━━━━━━━━━━━━━\u001b[0m\u001b[37m\u001b[0m \u001b[1m0s\u001b[0m 4ms/step - accuracy: 0.9496 - loss: 0.3389\n",
      "Epoch 52/100\n",
      "\u001b[1m27/27\u001b[0m \u001b[32m━━━━━━━━━━━━━━━━━━━━\u001b[0m\u001b[37m\u001b[0m \u001b[1m0s\u001b[0m 4ms/step - accuracy: 0.9506 - loss: 0.3104\n",
      "Epoch 53/100\n",
      "\u001b[1m27/27\u001b[0m \u001b[32m━━━━━━━━━━━━━━━━━━━━\u001b[0m\u001b[37m\u001b[0m \u001b[1m0s\u001b[0m 5ms/step - accuracy: 0.9551 - loss: 0.2978\n",
      "Epoch 54/100\n",
      "\u001b[1m27/27\u001b[0m \u001b[32m━━━━━━━━━━━━━━━━━━━━\u001b[0m\u001b[37m\u001b[0m \u001b[1m0s\u001b[0m 4ms/step - accuracy: 0.9436 - loss: 0.3014\n",
      "Epoch 55/100\n",
      "\u001b[1m27/27\u001b[0m \u001b[32m━━━━━━━━━━━━━━━━━━━━\u001b[0m\u001b[37m\u001b[0m \u001b[1m0s\u001b[0m 5ms/step - accuracy: 0.9612 - loss: 0.2598\n",
      "Epoch 56/100\n",
      "\u001b[1m27/27\u001b[0m \u001b[32m━━━━━━━━━━━━━━━━━━━━\u001b[0m\u001b[37m\u001b[0m \u001b[1m0s\u001b[0m 5ms/step - accuracy: 0.9480 - loss: 0.2740\n",
      "Epoch 57/100\n",
      "\u001b[1m27/27\u001b[0m \u001b[32m━━━━━━━━━━━━━━━━━━━━\u001b[0m\u001b[37m\u001b[0m \u001b[1m0s\u001b[0m 4ms/step - accuracy: 0.9486 - loss: 0.2797\n",
      "Epoch 58/100\n",
      "\u001b[1m27/27\u001b[0m \u001b[32m━━━━━━━━━━━━━━━━━━━━\u001b[0m\u001b[37m\u001b[0m \u001b[1m0s\u001b[0m 5ms/step - accuracy: 0.9561 - loss: 0.2558\n",
      "Epoch 59/100\n",
      "\u001b[1m27/27\u001b[0m \u001b[32m━━━━━━━━━━━━━━━━━━━━\u001b[0m\u001b[37m\u001b[0m \u001b[1m0s\u001b[0m 5ms/step - accuracy: 0.9579 - loss: 0.2360\n",
      "Epoch 60/100\n",
      "\u001b[1m27/27\u001b[0m \u001b[32m━━━━━━━━━━━━━━━━━━━━\u001b[0m\u001b[37m\u001b[0m \u001b[1m0s\u001b[0m 4ms/step - accuracy: 0.9529 - loss: 0.2344\n",
      "Epoch 61/100\n",
      "\u001b[1m27/27\u001b[0m \u001b[32m━━━━━━━━━━━━━━━━━━━━\u001b[0m\u001b[37m\u001b[0m \u001b[1m0s\u001b[0m 4ms/step - accuracy: 0.9485 - loss: 0.2370\n",
      "Epoch 62/100\n",
      "\u001b[1m27/27\u001b[0m \u001b[32m━━━━━━━━━━━━━━━━━━━━\u001b[0m\u001b[37m\u001b[0m \u001b[1m0s\u001b[0m 4ms/step - accuracy: 0.9404 - loss: 0.2399\n",
      "Epoch 63/100\n",
      "\u001b[1m27/27\u001b[0m \u001b[32m━━━━━━━━━━━━━━━━━━━━\u001b[0m\u001b[37m\u001b[0m \u001b[1m0s\u001b[0m 4ms/step - accuracy: 0.9418 - loss: 0.2422\n",
      "Epoch 64/100\n",
      "\u001b[1m27/27\u001b[0m \u001b[32m━━━━━━━━━━━━━━━━━━━━\u001b[0m\u001b[37m\u001b[0m \u001b[1m0s\u001b[0m 4ms/step - accuracy: 0.9438 - loss: 0.2209\n",
      "Epoch 65/100\n",
      "\u001b[1m27/27\u001b[0m \u001b[32m━━━━━━━━━━━━━━━━━━━━\u001b[0m\u001b[37m\u001b[0m \u001b[1m0s\u001b[0m 5ms/step - accuracy: 0.9576 - loss: 0.1997\n",
      "Epoch 66/100\n",
      "\u001b[1m27/27\u001b[0m \u001b[32m━━━━━━━━━━━━━━━━━━━━\u001b[0m\u001b[37m\u001b[0m \u001b[1m0s\u001b[0m 4ms/step - accuracy: 0.9391 - loss: 0.2157\n",
      "Epoch 67/100\n",
      "\u001b[1m27/27\u001b[0m \u001b[32m━━━━━━━━━━━━━━━━━━━━\u001b[0m\u001b[37m\u001b[0m \u001b[1m0s\u001b[0m 5ms/step - accuracy: 0.9478 - loss: 0.1928\n",
      "Epoch 68/100\n",
      "\u001b[1m27/27\u001b[0m \u001b[32m━━━━━━━━━━━━━━━━━━━━\u001b[0m\u001b[37m\u001b[0m \u001b[1m0s\u001b[0m 4ms/step - accuracy: 0.9313 - loss: 0.2142\n",
      "Epoch 69/100\n",
      "\u001b[1m27/27\u001b[0m \u001b[32m━━━━━━━━━━━━━━━━━━━━\u001b[0m\u001b[37m\u001b[0m \u001b[1m0s\u001b[0m 5ms/step - accuracy: 0.9418 - loss: 0.2034\n",
      "Epoch 70/100\n",
      "\u001b[1m27/27\u001b[0m \u001b[32m━━━━━━━━━━━━━━━━━━━━\u001b[0m\u001b[37m\u001b[0m \u001b[1m0s\u001b[0m 5ms/step - accuracy: 0.9323 - loss: 0.2029\n",
      "Epoch 71/100\n",
      "\u001b[1m27/27\u001b[0m \u001b[32m━━━━━━━━━━━━━━━━━━━━\u001b[0m\u001b[37m\u001b[0m \u001b[1m0s\u001b[0m 5ms/step - accuracy: 0.9503 - loss: 0.1837\n",
      "Epoch 72/100\n",
      "\u001b[1m27/27\u001b[0m \u001b[32m━━━━━━━━━━━━━━━━━━━━\u001b[0m\u001b[37m\u001b[0m \u001b[1m0s\u001b[0m 5ms/step - accuracy: 0.9614 - loss: 0.1599\n",
      "Epoch 73/100\n",
      "\u001b[1m27/27\u001b[0m \u001b[32m━━━━━━━━━━━━━━━━━━━━\u001b[0m\u001b[37m\u001b[0m \u001b[1m0s\u001b[0m 4ms/step - accuracy: 0.9550 - loss: 0.1706\n",
      "Epoch 74/100\n",
      "\u001b[1m27/27\u001b[0m \u001b[32m━━━━━━━━━━━━━━━━━━━━\u001b[0m\u001b[37m\u001b[0m \u001b[1m0s\u001b[0m 5ms/step - accuracy: 0.9668 - loss: 0.1616\n",
      "Epoch 75/100\n",
      "\u001b[1m27/27\u001b[0m \u001b[32m━━━━━━━━━━━━━━━━━━━━\u001b[0m\u001b[37m\u001b[0m \u001b[1m0s\u001b[0m 4ms/step - accuracy: 0.9557 - loss: 0.1642\n",
      "Epoch 76/100\n",
      "\u001b[1m27/27\u001b[0m \u001b[32m━━━━━━━━━━━━━━━━━━━━\u001b[0m\u001b[37m\u001b[0m \u001b[1m0s\u001b[0m 4ms/step - accuracy: 0.9521 - loss: 0.1597\n",
      "Epoch 77/100\n",
      "\u001b[1m27/27\u001b[0m \u001b[32m━━━━━━━━━━━━━━━━━━━━\u001b[0m\u001b[37m\u001b[0m \u001b[1m0s\u001b[0m 5ms/step - accuracy: 0.9558 - loss: 0.1493\n",
      "Epoch 78/100\n",
      "\u001b[1m27/27\u001b[0m \u001b[32m━━━━━━━━━━━━━━━━━━━━\u001b[0m\u001b[37m\u001b[0m \u001b[1m0s\u001b[0m 5ms/step - accuracy: 0.9596 - loss: 0.1617\n",
      "Epoch 79/100\n",
      "\u001b[1m27/27\u001b[0m \u001b[32m━━━━━━━━━━━━━━━━━━━━\u001b[0m\u001b[37m\u001b[0m \u001b[1m0s\u001b[0m 4ms/step - accuracy: 0.9475 - loss: 0.1596\n",
      "Epoch 80/100\n",
      "\u001b[1m27/27\u001b[0m \u001b[32m━━━━━━━━━━━━━━━━━━━━\u001b[0m\u001b[37m\u001b[0m \u001b[1m0s\u001b[0m 5ms/step - accuracy: 0.9426 - loss: 0.1624\n",
      "Epoch 81/100\n",
      "\u001b[1m27/27\u001b[0m \u001b[32m━━━━━━━━━━━━━━━━━━━━\u001b[0m\u001b[37m\u001b[0m \u001b[1m0s\u001b[0m 5ms/step - accuracy: 0.9495 - loss: 0.1734\n",
      "Epoch 82/100\n",
      "\u001b[1m27/27\u001b[0m \u001b[32m━━━━━━━━━━━━━━━━━━━━\u001b[0m\u001b[37m\u001b[0m \u001b[1m0s\u001b[0m 4ms/step - accuracy: 0.9457 - loss: 0.1509\n",
      "Epoch 83/100\n",
      "\u001b[1m27/27\u001b[0m \u001b[32m━━━━━━━━━━━━━━━━━━━━\u001b[0m\u001b[37m\u001b[0m \u001b[1m0s\u001b[0m 5ms/step - accuracy: 0.9401 - loss: 0.1636\n",
      "Epoch 84/100\n",
      "\u001b[1m27/27\u001b[0m \u001b[32m━━━━━━━━━━━━━━━━━━━━\u001b[0m\u001b[37m\u001b[0m \u001b[1m0s\u001b[0m 4ms/step - accuracy: 0.9577 - loss: 0.1366\n",
      "Epoch 85/100\n",
      "\u001b[1m27/27\u001b[0m \u001b[32m━━━━━━━━━━━━━━━━━━━━\u001b[0m\u001b[37m\u001b[0m \u001b[1m0s\u001b[0m 4ms/step - accuracy: 0.9591 - loss: 0.1422\n",
      "Epoch 86/100\n",
      "\u001b[1m27/27\u001b[0m \u001b[32m━━━━━━━━━━━━━━━━━━━━\u001b[0m\u001b[37m\u001b[0m \u001b[1m0s\u001b[0m 4ms/step - accuracy: 0.9458 - loss: 0.1642\n",
      "Epoch 87/100\n",
      "\u001b[1m27/27\u001b[0m \u001b[32m━━━━━━━━━━━━━━━━━━━━\u001b[0m\u001b[37m\u001b[0m \u001b[1m0s\u001b[0m 4ms/step - accuracy: 0.9436 - loss: 0.1611\n",
      "Epoch 88/100\n",
      "\u001b[1m27/27\u001b[0m \u001b[32m━━━━━━━━━━━━━━━━━━━━\u001b[0m\u001b[37m\u001b[0m \u001b[1m0s\u001b[0m 5ms/step - accuracy: 0.9525 - loss: 0.1412\n",
      "Epoch 89/100\n",
      "\u001b[1m27/27\u001b[0m \u001b[32m━━━━━━━━━━━━━━━━━━━━\u001b[0m\u001b[37m\u001b[0m \u001b[1m0s\u001b[0m 5ms/step - accuracy: 0.9560 - loss: 0.1255\n",
      "Epoch 90/100\n",
      "\u001b[1m27/27\u001b[0m \u001b[32m━━━━━━━━━━━━━━━━━━━━\u001b[0m\u001b[37m\u001b[0m \u001b[1m0s\u001b[0m 4ms/step - accuracy: 0.9548 - loss: 0.1366\n",
      "Epoch 91/100\n",
      "\u001b[1m27/27\u001b[0m \u001b[32m━━━━━━━━━━━━━━━━━━━━\u001b[0m\u001b[37m\u001b[0m \u001b[1m0s\u001b[0m 4ms/step - accuracy: 0.9438 - loss: 0.1476\n",
      "Epoch 92/100\n",
      "\u001b[1m27/27\u001b[0m \u001b[32m━━━━━━━━━━━━━━━━━━━━\u001b[0m\u001b[37m\u001b[0m \u001b[1m0s\u001b[0m 4ms/step - accuracy: 0.9337 - loss: 0.1617\n",
      "Epoch 93/100\n",
      "\u001b[1m27/27\u001b[0m \u001b[32m━━━━━━━━━━━━━━━━━━━━\u001b[0m\u001b[37m\u001b[0m \u001b[1m0s\u001b[0m 4ms/step - accuracy: 0.9562 - loss: 0.1223\n",
      "Epoch 94/100\n",
      "\u001b[1m27/27\u001b[0m \u001b[32m━━━━━━━━━━━━━━━━━━━━\u001b[0m\u001b[37m\u001b[0m \u001b[1m0s\u001b[0m 5ms/step - accuracy: 0.9464 - loss: 0.1376\n",
      "Epoch 95/100\n",
      "\u001b[1m27/27\u001b[0m \u001b[32m━━━━━━━━━━━━━━━━━━━━\u001b[0m\u001b[37m\u001b[0m \u001b[1m0s\u001b[0m 4ms/step - accuracy: 0.9438 - loss: 0.1380\n",
      "Epoch 96/100\n",
      "\u001b[1m27/27\u001b[0m \u001b[32m━━━━━━━━━━━━━━━━━━━━\u001b[0m\u001b[37m\u001b[0m \u001b[1m0s\u001b[0m 4ms/step - accuracy: 0.9527 - loss: 0.1269\n",
      "Epoch 97/100\n",
      "\u001b[1m27/27\u001b[0m \u001b[32m━━━━━━━━━━━━━━━━━━━━\u001b[0m\u001b[37m\u001b[0m \u001b[1m0s\u001b[0m 4ms/step - accuracy: 0.9387 - loss: 0.1487\n",
      "Epoch 98/100\n",
      "\u001b[1m27/27\u001b[0m \u001b[32m━━━━━━━━━━━━━━━━━━━━\u001b[0m\u001b[37m\u001b[0m \u001b[1m0s\u001b[0m 5ms/step - accuracy: 0.9372 - loss: 0.1479\n",
      "Epoch 99/100\n",
      "\u001b[1m27/27\u001b[0m \u001b[32m━━━━━━━━━━━━━━━━━━━━\u001b[0m\u001b[37m\u001b[0m \u001b[1m0s\u001b[0m 4ms/step - accuracy: 0.9470 - loss: 0.1255\n",
      "Epoch 100/100\n",
      "\u001b[1m27/27\u001b[0m \u001b[32m━━━━━━━━━━━━━━━━━━━━\u001b[0m\u001b[37m\u001b[0m \u001b[1m0s\u001b[0m 4ms/step - accuracy: 0.9410 - loss: 0.1384\n"
     ]
    },
    {
     "data": {
      "text/plain": [
       "<keras.src.callbacks.history.History at 0x727b1e612950>"
      ]
     },
     "execution_count": 28,
     "metadata": {},
     "output_type": "execute_result"
    }
   ],
   "source": [
    "model.fit(X, y, epochs=100)"
   ]
  },
  {
   "cell_type": "code",
   "execution_count": 29,
   "id": "466e0c9c-31ed-4bdb-b3e9-438013b2e088",
   "metadata": {},
   "outputs": [
    {
     "name": "stdout",
     "output_type": "stream",
     "text": [
      "Layer embedding:\n",
      "(283, 100)\n",
      "Layer lstm:\n",
      "(100, 600)\n",
      "(150, 600)\n",
      "(600,)\n",
      "Layer dense:\n",
      "(150, 283)\n",
      "(283,)\n"
     ]
    }
   ],
   "source": [
    "for layer in model.layers:\n",
    "    weights = layer.get_weights()\n",
    "    print(f\"Layer {layer.name}:\")\n",
    "    for w in weights:\n",
    "        print(w.shape)"
   ]
  },
  {
   "cell_type": "code",
   "execution_count": 43,
   "id": "1baf771a-76cc-454e-a038-4df7f436450b",
   "metadata": {},
   "outputs": [],
   "source": [
    "def do_tokenize(text):\n",
    "    return tokenizer.texts_to_sequences([text])[0]"
   ]
  },
  {
   "cell_type": "code",
   "execution_count": 44,
   "id": "a0c72628-cee7-4af4-9ed4-936de5b5f8af",
   "metadata": {},
   "outputs": [],
   "source": [
    "def do_padding(token_text, max_len=56):\n",
    "    return pad_sequences([token_text], maxlen=max_len, padding=\"pre\")"
   ]
  },
  {
   "cell_type": "code",
   "execution_count": 61,
   "id": "f48877e0-a786-4ae5-9481-471d862dce45",
   "metadata": {},
   "outputs": [],
   "source": [
    "def get_word_from_index(word_index):\n",
    "    for word,index in tokenizer.word_index.items():\n",
    "        if index == word_index: return word"
   ]
  },
  {
   "cell_type": "code",
   "execution_count": 64,
   "id": "256439e2-f6c8-4bdb-98d1-2126c9483651",
   "metadata": {},
   "outputs": [],
   "source": [
    "def predict_next_word(text,next_num_word=1):\n",
    "    for i in range(next_num_word):\n",
    "        token_text = do_tokenize(text)\n",
    "        padded_token_text = do_padding(token_text)\n",
    "        pred_token = model.predict(padded_token_text)\n",
    "        word_index = np.argmax(pred_token)\n",
    "        text = text + \" \" + get_word_from_index(word_index)\n",
    "        print(text)"
   ]
  },
  {
   "cell_type": "code",
   "execution_count": 78,
   "id": "bbc090c0-6014-4504-9b20-412b9fb62452",
   "metadata": {},
   "outputs": [
    {
     "name": "stdout",
     "output_type": "stream",
     "text": [
      "\u001b[1m1/1\u001b[0m \u001b[32m━━━━━━━━━━━━━━━━━━━━\u001b[0m\u001b[37m\u001b[0m \u001b[1m0s\u001b[0m 20ms/step\n",
      "total duration of the course is over\n",
      "\u001b[1m1/1\u001b[0m \u001b[32m━━━━━━━━━━━━━━━━━━━━\u001b[0m\u001b[37m\u001b[0m \u001b[1m0s\u001b[0m 18ms/step\n",
      "total duration of the course is over and\n",
      "\u001b[1m1/1\u001b[0m \u001b[32m━━━━━━━━━━━━━━━━━━━━\u001b[0m\u001b[37m\u001b[0m \u001b[1m0s\u001b[0m 18ms/step\n",
      "total duration of the course is over and you\n",
      "\u001b[1m1/1\u001b[0m \u001b[32m━━━━━━━━━━━━━━━━━━━━\u001b[0m\u001b[37m\u001b[0m \u001b[1m0s\u001b[0m 19ms/step\n",
      "total duration of the course is over and you have\n",
      "\u001b[1m1/1\u001b[0m \u001b[32m━━━━━━━━━━━━━━━━━━━━\u001b[0m\u001b[37m\u001b[0m \u001b[1m0s\u001b[0m 20ms/step\n",
      "total duration of the course is over and you have paid\n",
      "\u001b[1m1/1\u001b[0m \u001b[32m━━━━━━━━━━━━━━━━━━━━\u001b[0m\u001b[37m\u001b[0m \u001b[1m0s\u001b[0m 21ms/step\n",
      "total duration of the course is over and you have paid us\n",
      "\u001b[1m1/1\u001b[0m \u001b[32m━━━━━━━━━━━━━━━━━━━━\u001b[0m\u001b[37m\u001b[0m \u001b[1m0s\u001b[0m 20ms/step\n",
      "total duration of the course is over and you have paid us rs\n",
      "\u001b[1m1/1\u001b[0m \u001b[32m━━━━━━━━━━━━━━━━━━━━\u001b[0m\u001b[37m\u001b[0m \u001b[1m0s\u001b[0m 19ms/step\n",
      "total duration of the course is over and you have paid us rs 5600\n",
      "\u001b[1m1/1\u001b[0m \u001b[32m━━━━━━━━━━━━━━━━━━━━\u001b[0m\u001b[37m\u001b[0m \u001b[1m0s\u001b[0m 19ms/step\n",
      "total duration of the course is over and you have paid us rs 5600 or\n",
      "\u001b[1m1/1\u001b[0m \u001b[32m━━━━━━━━━━━━━━━━━━━━\u001b[0m\u001b[37m\u001b[0m \u001b[1m0s\u001b[0m 19ms/step\n",
      "total duration of the course is over and you have paid us rs 5600 or 7\n",
      "\u001b[1m1/1\u001b[0m \u001b[32m━━━━━━━━━━━━━━━━━━━━\u001b[0m\u001b[37m\u001b[0m \u001b[1m0s\u001b[0m 19ms/step\n",
      "total duration of the course is over and you have paid us rs 5600 or 7 installments\n",
      "\u001b[1m1/1\u001b[0m \u001b[32m━━━━━━━━━━━━━━━━━━━━\u001b[0m\u001b[37m\u001b[0m \u001b[1m0s\u001b[0m 21ms/step\n",
      "total duration of the course is over and you have paid us rs 5600 or 7 installments of\n",
      "\u001b[1m1/1\u001b[0m \u001b[32m━━━━━━━━━━━━━━━━━━━━\u001b[0m\u001b[37m\u001b[0m \u001b[1m0s\u001b[0m 20ms/step\n",
      "total duration of the course is over and you have paid us rs 5600 or 7 installments of rs\n",
      "\u001b[1m1/1\u001b[0m \u001b[32m━━━━━━━━━━━━━━━━━━━━\u001b[0m\u001b[37m\u001b[0m \u001b[1m0s\u001b[0m 21ms/step\n",
      "total duration of the course is over and you have paid us rs 5600 or 7 installments of rs 799\n"
     ]
    }
   ],
   "source": [
    "# predict_next_word(\"nlp and deep learning\",10)\n",
    "predict_next_word(\"total duration of the course is\",14)"
   ]
  },
  {
   "cell_type": "code",
   "execution_count": null,
   "id": "dc662c8f-b75d-4278-92d4-4fce303675f2",
   "metadata": {},
   "outputs": [],
   "source": []
  }
 ],
 "metadata": {
  "kernelspec": {
   "display_name": "mlproject-311",
   "language": "python",
   "name": "mlproject-311"
  },
  "language_info": {
   "codemirror_mode": {
    "name": "ipython",
    "version": 3
   },
   "file_extension": ".py",
   "mimetype": "text/x-python",
   "name": "python",
   "nbconvert_exporter": "python",
   "pygments_lexer": "ipython3",
   "version": "3.11.11"
  }
 },
 "nbformat": 4,
 "nbformat_minor": 5
}
